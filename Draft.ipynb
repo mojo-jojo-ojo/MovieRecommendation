{
 "cells": [
  {
   "cell_type": "markdown",
   "metadata": {},
   "source": [
    "## PROJECT 2"
   ]
  },
  {
   "cell_type": "code",
   "execution_count": 352,
   "metadata": {},
   "outputs": [],
   "source": [
    "import pandas as pd\n",
    "import numpy as np\n",
    "import matplotlib.pyplot as plt\n",
    "import datetime\n",
    "from sklearn.tree import DecisionTreeRegressor\n",
    "from sklearn.linear_model import LinearRegression\n",
    "from sklearn.model_selection import train_test_split\n",
    "\n",
    "from sklearn.metrics import accuracy_score"
   ]
  },
  {
   "cell_type": "code",
   "execution_count": 353,
   "metadata": {},
   "outputs": [],
   "source": [
    "df=pd.read_csv('crypto-markets.csv')"
   ]
  },
  {
   "cell_type": "code",
   "execution_count": 354,
   "metadata": {},
   "outputs": [],
   "source": [
    "df['date'] = pd.to_datetime(df.date,format='%Y-%m-%d')\n",
    "df.index = df['date']"
   ]
  },
  {
   "cell_type": "code",
   "execution_count": 355,
   "metadata": {},
   "outputs": [
    {
     "data": {
      "text/html": [
       "<div>\n",
       "<style scoped>\n",
       "    .dataframe tbody tr th:only-of-type {\n",
       "        vertical-align: middle;\n",
       "    }\n",
       "\n",
       "    .dataframe tbody tr th {\n",
       "        vertical-align: top;\n",
       "    }\n",
       "\n",
       "    .dataframe thead th {\n",
       "        text-align: right;\n",
       "    }\n",
       "</style>\n",
       "<table border=\"1\" class=\"dataframe\">\n",
       "  <thead>\n",
       "    <tr style=\"text-align: right;\">\n",
       "      <th></th>\n",
       "      <th>slug</th>\n",
       "      <th>symbol</th>\n",
       "      <th>name</th>\n",
       "      <th>date</th>\n",
       "      <th>ranknow</th>\n",
       "      <th>open</th>\n",
       "      <th>high</th>\n",
       "      <th>low</th>\n",
       "      <th>close</th>\n",
       "      <th>volume</th>\n",
       "      <th>market</th>\n",
       "      <th>close_ratio</th>\n",
       "      <th>spread</th>\n",
       "    </tr>\n",
       "    <tr>\n",
       "      <th>date</th>\n",
       "      <th></th>\n",
       "      <th></th>\n",
       "      <th></th>\n",
       "      <th></th>\n",
       "      <th></th>\n",
       "      <th></th>\n",
       "      <th></th>\n",
       "      <th></th>\n",
       "      <th></th>\n",
       "      <th></th>\n",
       "      <th></th>\n",
       "      <th></th>\n",
       "      <th></th>\n",
       "    </tr>\n",
       "  </thead>\n",
       "  <tbody>\n",
       "    <tr>\n",
       "      <th>2013-04-28</th>\n",
       "      <td>bitcoin</td>\n",
       "      <td>BTC</td>\n",
       "      <td>Bitcoin</td>\n",
       "      <td>2013-04-28</td>\n",
       "      <td>1</td>\n",
       "      <td>135.30</td>\n",
       "      <td>135.98</td>\n",
       "      <td>132.10</td>\n",
       "      <td>134.21</td>\n",
       "      <td>0.0</td>\n",
       "      <td>1.488567e+09</td>\n",
       "      <td>0.5438</td>\n",
       "      <td>3.88</td>\n",
       "    </tr>\n",
       "    <tr>\n",
       "      <th>2013-04-29</th>\n",
       "      <td>bitcoin</td>\n",
       "      <td>BTC</td>\n",
       "      <td>Bitcoin</td>\n",
       "      <td>2013-04-29</td>\n",
       "      <td>1</td>\n",
       "      <td>134.44</td>\n",
       "      <td>147.49</td>\n",
       "      <td>134.00</td>\n",
       "      <td>144.54</td>\n",
       "      <td>0.0</td>\n",
       "      <td>1.603769e+09</td>\n",
       "      <td>0.7813</td>\n",
       "      <td>13.49</td>\n",
       "    </tr>\n",
       "    <tr>\n",
       "      <th>2013-04-30</th>\n",
       "      <td>bitcoin</td>\n",
       "      <td>BTC</td>\n",
       "      <td>Bitcoin</td>\n",
       "      <td>2013-04-30</td>\n",
       "      <td>1</td>\n",
       "      <td>144.00</td>\n",
       "      <td>146.93</td>\n",
       "      <td>134.05</td>\n",
       "      <td>139.00</td>\n",
       "      <td>0.0</td>\n",
       "      <td>1.542813e+09</td>\n",
       "      <td>0.3843</td>\n",
       "      <td>12.88</td>\n",
       "    </tr>\n",
       "    <tr>\n",
       "      <th>2013-05-01</th>\n",
       "      <td>bitcoin</td>\n",
       "      <td>BTC</td>\n",
       "      <td>Bitcoin</td>\n",
       "      <td>2013-05-01</td>\n",
       "      <td>1</td>\n",
       "      <td>139.00</td>\n",
       "      <td>139.89</td>\n",
       "      <td>107.72</td>\n",
       "      <td>116.99</td>\n",
       "      <td>0.0</td>\n",
       "      <td>1.298955e+09</td>\n",
       "      <td>0.2882</td>\n",
       "      <td>32.17</td>\n",
       "    </tr>\n",
       "    <tr>\n",
       "      <th>2013-05-02</th>\n",
       "      <td>bitcoin</td>\n",
       "      <td>BTC</td>\n",
       "      <td>Bitcoin</td>\n",
       "      <td>2013-05-02</td>\n",
       "      <td>1</td>\n",
       "      <td>116.38</td>\n",
       "      <td>125.60</td>\n",
       "      <td>92.28</td>\n",
       "      <td>105.21</td>\n",
       "      <td>0.0</td>\n",
       "      <td>1.168517e+09</td>\n",
       "      <td>0.3881</td>\n",
       "      <td>33.32</td>\n",
       "    </tr>\n",
       "  </tbody>\n",
       "</table>\n",
       "</div>"
      ],
      "text/plain": [
       "               slug symbol     name       date  ranknow    open    high  \\\n",
       "date                                                                      \n",
       "2013-04-28  bitcoin    BTC  Bitcoin 2013-04-28        1  135.30  135.98   \n",
       "2013-04-29  bitcoin    BTC  Bitcoin 2013-04-29        1  134.44  147.49   \n",
       "2013-04-30  bitcoin    BTC  Bitcoin 2013-04-30        1  144.00  146.93   \n",
       "2013-05-01  bitcoin    BTC  Bitcoin 2013-05-01        1  139.00  139.89   \n",
       "2013-05-02  bitcoin    BTC  Bitcoin 2013-05-02        1  116.38  125.60   \n",
       "\n",
       "               low   close  volume        market  close_ratio  spread  \n",
       "date                                                                   \n",
       "2013-04-28  132.10  134.21     0.0  1.488567e+09       0.5438    3.88  \n",
       "2013-04-29  134.00  144.54     0.0  1.603769e+09       0.7813   13.49  \n",
       "2013-04-30  134.05  139.00     0.0  1.542813e+09       0.3843   12.88  \n",
       "2013-05-01  107.72  116.99     0.0  1.298955e+09       0.2882   32.17  \n",
       "2013-05-02   92.28  105.21     0.0  1.168517e+09       0.3881   33.32  "
      ]
     },
     "execution_count": 355,
     "metadata": {},
     "output_type": "execute_result"
    }
   ],
   "source": [
    "df.head()"
   ]
  },
  {
   "cell_type": "code",
   "execution_count": 356,
   "metadata": {},
   "outputs": [
    {
     "name": "stdout",
     "output_type": "stream",
     "text": [
      "<class 'pandas.core.frame.DataFrame'>\n",
      "DatetimeIndex: 942297 entries, 2013-04-28 to 2018-11-30\n",
      "Data columns (total 13 columns):\n",
      " #   Column       Non-Null Count   Dtype         \n",
      "---  ------       --------------   -----         \n",
      " 0   slug         942297 non-null  object        \n",
      " 1   symbol       942297 non-null  object        \n",
      " 2   name         942297 non-null  object        \n",
      " 3   date         942297 non-null  datetime64[ns]\n",
      " 4   ranknow      942297 non-null  int64         \n",
      " 5   open         942297 non-null  float64       \n",
      " 6   high         942297 non-null  float64       \n",
      " 7   low          942297 non-null  float64       \n",
      " 8   close        942297 non-null  float64       \n",
      " 9   volume       942297 non-null  float64       \n",
      " 10  market       942297 non-null  float64       \n",
      " 11  close_ratio  942297 non-null  float64       \n",
      " 12  spread       942297 non-null  float64       \n",
      "dtypes: datetime64[ns](1), float64(8), int64(1), object(3)\n",
      "memory usage: 100.6+ MB\n"
     ]
    }
   ],
   "source": [
    "df.info()"
   ]
  },
  {
   "cell_type": "code",
   "execution_count": 357,
   "metadata": {},
   "outputs": [],
   "source": [
    "#df.drop(['', 'C'], axis=1)\n"
   ]
  },
  {
   "cell_type": "code",
   "execution_count": 358,
   "metadata": {},
   "outputs": [],
   "source": [
    "# Transform date to date object\n",
    "df['date'] = pd.to_datetime(df['date'], format='%Y-%m-%d')"
   ]
  },
  {
   "cell_type": "code",
   "execution_count": 359,
   "metadata": {},
   "outputs": [
    {
     "data": {
      "text/html": [
       "<div>\n",
       "<style scoped>\n",
       "    .dataframe tbody tr th:only-of-type {\n",
       "        vertical-align: middle;\n",
       "    }\n",
       "\n",
       "    .dataframe tbody tr th {\n",
       "        vertical-align: top;\n",
       "    }\n",
       "\n",
       "    .dataframe thead th {\n",
       "        text-align: right;\n",
       "    }\n",
       "</style>\n",
       "<table border=\"1\" class=\"dataframe\">\n",
       "  <thead>\n",
       "    <tr style=\"text-align: right;\">\n",
       "      <th></th>\n",
       "      <th>slug</th>\n",
       "      <th>symbol</th>\n",
       "      <th>name</th>\n",
       "      <th>date</th>\n",
       "      <th>ranknow</th>\n",
       "      <th>open</th>\n",
       "      <th>high</th>\n",
       "      <th>low</th>\n",
       "      <th>close</th>\n",
       "      <th>volume</th>\n",
       "      <th>market</th>\n",
       "      <th>close_ratio</th>\n",
       "      <th>spread</th>\n",
       "    </tr>\n",
       "    <tr>\n",
       "      <th>date</th>\n",
       "      <th></th>\n",
       "      <th></th>\n",
       "      <th></th>\n",
       "      <th></th>\n",
       "      <th></th>\n",
       "      <th></th>\n",
       "      <th></th>\n",
       "      <th></th>\n",
       "      <th></th>\n",
       "      <th></th>\n",
       "      <th></th>\n",
       "      <th></th>\n",
       "      <th></th>\n",
       "    </tr>\n",
       "  </thead>\n",
       "  <tbody>\n",
       "    <tr>\n",
       "      <th>2013-04-28</th>\n",
       "      <td>bitcoin</td>\n",
       "      <td>BTC</td>\n",
       "      <td>Bitcoin</td>\n",
       "      <td>2013-04-28</td>\n",
       "      <td>1</td>\n",
       "      <td>135.30</td>\n",
       "      <td>135.98</td>\n",
       "      <td>132.10</td>\n",
       "      <td>134.21</td>\n",
       "      <td>0.0</td>\n",
       "      <td>1.488567e+09</td>\n",
       "      <td>0.5438</td>\n",
       "      <td>3.88</td>\n",
       "    </tr>\n",
       "    <tr>\n",
       "      <th>2013-04-29</th>\n",
       "      <td>bitcoin</td>\n",
       "      <td>BTC</td>\n",
       "      <td>Bitcoin</td>\n",
       "      <td>2013-04-29</td>\n",
       "      <td>1</td>\n",
       "      <td>134.44</td>\n",
       "      <td>147.49</td>\n",
       "      <td>134.00</td>\n",
       "      <td>144.54</td>\n",
       "      <td>0.0</td>\n",
       "      <td>1.603769e+09</td>\n",
       "      <td>0.7813</td>\n",
       "      <td>13.49</td>\n",
       "    </tr>\n",
       "    <tr>\n",
       "      <th>2013-04-30</th>\n",
       "      <td>bitcoin</td>\n",
       "      <td>BTC</td>\n",
       "      <td>Bitcoin</td>\n",
       "      <td>2013-04-30</td>\n",
       "      <td>1</td>\n",
       "      <td>144.00</td>\n",
       "      <td>146.93</td>\n",
       "      <td>134.05</td>\n",
       "      <td>139.00</td>\n",
       "      <td>0.0</td>\n",
       "      <td>1.542813e+09</td>\n",
       "      <td>0.3843</td>\n",
       "      <td>12.88</td>\n",
       "    </tr>\n",
       "    <tr>\n",
       "      <th>2013-05-01</th>\n",
       "      <td>bitcoin</td>\n",
       "      <td>BTC</td>\n",
       "      <td>Bitcoin</td>\n",
       "      <td>2013-05-01</td>\n",
       "      <td>1</td>\n",
       "      <td>139.00</td>\n",
       "      <td>139.89</td>\n",
       "      <td>107.72</td>\n",
       "      <td>116.99</td>\n",
       "      <td>0.0</td>\n",
       "      <td>1.298955e+09</td>\n",
       "      <td>0.2882</td>\n",
       "      <td>32.17</td>\n",
       "    </tr>\n",
       "    <tr>\n",
       "      <th>2013-05-02</th>\n",
       "      <td>bitcoin</td>\n",
       "      <td>BTC</td>\n",
       "      <td>Bitcoin</td>\n",
       "      <td>2013-05-02</td>\n",
       "      <td>1</td>\n",
       "      <td>116.38</td>\n",
       "      <td>125.60</td>\n",
       "      <td>92.28</td>\n",
       "      <td>105.21</td>\n",
       "      <td>0.0</td>\n",
       "      <td>1.168517e+09</td>\n",
       "      <td>0.3881</td>\n",
       "      <td>33.32</td>\n",
       "    </tr>\n",
       "  </tbody>\n",
       "</table>\n",
       "</div>"
      ],
      "text/plain": [
       "               slug symbol     name       date  ranknow    open    high  \\\n",
       "date                                                                      \n",
       "2013-04-28  bitcoin    BTC  Bitcoin 2013-04-28        1  135.30  135.98   \n",
       "2013-04-29  bitcoin    BTC  Bitcoin 2013-04-29        1  134.44  147.49   \n",
       "2013-04-30  bitcoin    BTC  Bitcoin 2013-04-30        1  144.00  146.93   \n",
       "2013-05-01  bitcoin    BTC  Bitcoin 2013-05-01        1  139.00  139.89   \n",
       "2013-05-02  bitcoin    BTC  Bitcoin 2013-05-02        1  116.38  125.60   \n",
       "\n",
       "               low   close  volume        market  close_ratio  spread  \n",
       "date                                                                   \n",
       "2013-04-28  132.10  134.21     0.0  1.488567e+09       0.5438    3.88  \n",
       "2013-04-29  134.00  144.54     0.0  1.603769e+09       0.7813   13.49  \n",
       "2013-04-30  134.05  139.00     0.0  1.542813e+09       0.3843   12.88  \n",
       "2013-05-01  107.72  116.99     0.0  1.298955e+09       0.2882   32.17  \n",
       "2013-05-02   92.28  105.21     0.0  1.168517e+09       0.3881   33.32  "
      ]
     },
     "execution_count": 359,
     "metadata": {},
     "output_type": "execute_result"
    }
   ],
   "source": [
    "df.head()"
   ]
  },
  {
   "cell_type": "code",
   "execution_count": 360,
   "metadata": {},
   "outputs": [
    {
     "name": "stdout",
     "output_type": "stream",
     "text": [
      "Latest data:\n"
     ]
    },
    {
     "data": {
      "text/html": [
       "<div>\n",
       "<style scoped>\n",
       "    .dataframe tbody tr th:only-of-type {\n",
       "        vertical-align: middle;\n",
       "    }\n",
       "\n",
       "    .dataframe tbody tr th {\n",
       "        vertical-align: top;\n",
       "    }\n",
       "\n",
       "    .dataframe thead th {\n",
       "        text-align: right;\n",
       "    }\n",
       "</style>\n",
       "<table border=\"1\" class=\"dataframe\">\n",
       "  <thead>\n",
       "    <tr style=\"text-align: right;\">\n",
       "      <th></th>\n",
       "      <th>slug</th>\n",
       "      <th>symbol</th>\n",
       "      <th>name</th>\n",
       "      <th>date</th>\n",
       "      <th>ranknow</th>\n",
       "      <th>open</th>\n",
       "      <th>high</th>\n",
       "      <th>low</th>\n",
       "      <th>close</th>\n",
       "      <th>volume</th>\n",
       "      <th>market</th>\n",
       "      <th>close_ratio</th>\n",
       "      <th>spread</th>\n",
       "    </tr>\n",
       "    <tr>\n",
       "      <th>date</th>\n",
       "      <th></th>\n",
       "      <th></th>\n",
       "      <th></th>\n",
       "      <th></th>\n",
       "      <th></th>\n",
       "      <th></th>\n",
       "      <th></th>\n",
       "      <th></th>\n",
       "      <th></th>\n",
       "      <th></th>\n",
       "      <th></th>\n",
       "      <th></th>\n",
       "      <th></th>\n",
       "    </tr>\n",
       "  </thead>\n",
       "  <tbody>\n",
       "    <tr>\n",
       "      <th>2018-11-30</th>\n",
       "      <td>42-coin</td>\n",
       "      <td>42</td>\n",
       "      <td>42-coin</td>\n",
       "      <td>2018-11-30</td>\n",
       "      <td>1228</td>\n",
       "      <td>23272.24</td>\n",
       "      <td>25082.69</td>\n",
       "      <td>21436.75</td>\n",
       "      <td>22665.93</td>\n",
       "      <td>308.0</td>\n",
       "      <td>951968.0</td>\n",
       "      <td>0.3371</td>\n",
       "      <td>3645.94</td>\n",
       "    </tr>\n",
       "    <tr>\n",
       "      <th>2018-11-30</th>\n",
       "      <td>bit20</td>\n",
       "      <td>BTWTY</td>\n",
       "      <td>Bit20</td>\n",
       "      <td>2018-11-30</td>\n",
       "      <td>1505</td>\n",
       "      <td>59697.89</td>\n",
       "      <td>59697.89</td>\n",
       "      <td>58616.07</td>\n",
       "      <td>59274.96</td>\n",
       "      <td>0.0</td>\n",
       "      <td>60223.0</td>\n",
       "      <td>0.6091</td>\n",
       "      <td>1081.82</td>\n",
       "    </tr>\n",
       "    <tr>\n",
       "      <th>2018-11-30</th>\n",
       "      <td>project-x</td>\n",
       "      <td>NANOX</td>\n",
       "      <td>Project-X</td>\n",
       "      <td>2018-11-30</td>\n",
       "      <td>1727</td>\n",
       "      <td>22872.09</td>\n",
       "      <td>23086.98</td>\n",
       "      <td>19040.91</td>\n",
       "      <td>21136.72</td>\n",
       "      <td>125.0</td>\n",
       "      <td>1654.0</td>\n",
       "      <td>0.5180</td>\n",
       "      <td>4046.07</td>\n",
       "    </tr>\n",
       "  </tbody>\n",
       "</table>\n",
       "</div>"
      ],
      "text/plain": [
       "                 slug symbol       name       date  ranknow      open  \\\n",
       "date                                                                    \n",
       "2018-11-30    42-coin     42    42-coin 2018-11-30     1228  23272.24   \n",
       "2018-11-30      bit20  BTWTY      Bit20 2018-11-30     1505  59697.89   \n",
       "2018-11-30  project-x  NANOX  Project-X 2018-11-30     1727  22872.09   \n",
       "\n",
       "                high       low     close  volume    market  close_ratio  \\\n",
       "date                                                                      \n",
       "2018-11-30  25082.69  21436.75  22665.93   308.0  951968.0       0.3371   \n",
       "2018-11-30  59697.89  58616.07  59274.96     0.0   60223.0       0.6091   \n",
       "2018-11-30  23086.98  19040.91  21136.72   125.0    1654.0       0.5180   \n",
       "\n",
       "             spread  \n",
       "date                 \n",
       "2018-11-30  3645.94  \n",
       "2018-11-30  1081.82  \n",
       "2018-11-30  4046.07  "
      ]
     },
     "execution_count": 360,
     "metadata": {},
     "output_type": "execute_result"
    }
   ],
   "source": [
    "#for printing the latest updated values\n",
    "\n",
    "print(\"Latest data:\")\n",
    "latest_df = df[df['date'] == max(df['date'])]\n",
    "latest_df.head(7)"
   ]
  },
  {
   "cell_type": "code",
   "execution_count": 361,
   "metadata": {},
   "outputs": [
    {
     "data": {
      "text/plain": [
       "2005"
      ]
     },
     "execution_count": 361,
     "metadata": {},
     "output_type": "execute_result"
    }
   ],
   "source": [
    "#Number of crypto currencies listed:\n",
    "df['symbol'].nunique()"
   ]
  },
  {
   "cell_type": "code",
   "execution_count": 362,
   "metadata": {},
   "outputs": [
    {
     "data": {
      "text/plain": [
       "slug           False\n",
       "symbol         False\n",
       "name           False\n",
       "date           False\n",
       "ranknow        False\n",
       "open           False\n",
       "high           False\n",
       "low            False\n",
       "close          False\n",
       "volume         False\n",
       "market         False\n",
       "close_ratio    False\n",
       "spread         False\n",
       "dtype: bool"
      ]
     },
     "execution_count": 362,
     "metadata": {},
     "output_type": "execute_result"
    }
   ],
   "source": [
    "#To find NaN values\n",
    "df.isna().any()"
   ]
  },
  {
   "cell_type": "code",
   "execution_count": 363,
   "metadata": {},
   "outputs": [
    {
     "data": {
      "text/plain": [
       "Index(['slug', 'symbol', 'name', 'date', 'ranknow', 'open', 'high', 'low',\n",
       "       'close', 'volume', 'market', 'close_ratio', 'spread'],\n",
       "      dtype='object')"
      ]
     },
     "execution_count": 363,
     "metadata": {},
     "output_type": "execute_result"
    }
   ],
   "source": [
    "df.keys()"
   ]
  },
  {
   "cell_type": "code",
   "execution_count": 364,
   "metadata": {},
   "outputs": [
    {
     "data": {
      "text/html": [
       "<div>\n",
       "<style scoped>\n",
       "    .dataframe tbody tr th:only-of-type {\n",
       "        vertical-align: middle;\n",
       "    }\n",
       "\n",
       "    .dataframe tbody tr th {\n",
       "        vertical-align: top;\n",
       "    }\n",
       "\n",
       "    .dataframe thead th {\n",
       "        text-align: right;\n",
       "    }\n",
       "</style>\n",
       "<table border=\"1\" class=\"dataframe\">\n",
       "  <thead>\n",
       "    <tr style=\"text-align: right;\">\n",
       "      <th></th>\n",
       "      <th>close</th>\n",
       "    </tr>\n",
       "    <tr>\n",
       "      <th>date</th>\n",
       "      <th></th>\n",
       "    </tr>\n",
       "  </thead>\n",
       "  <tbody>\n",
       "    <tr>\n",
       "      <th>2013-04-28</th>\n",
       "      <td>134.21</td>\n",
       "    </tr>\n",
       "    <tr>\n",
       "      <th>2013-04-29</th>\n",
       "      <td>144.54</td>\n",
       "    </tr>\n",
       "    <tr>\n",
       "      <th>2013-04-30</th>\n",
       "      <td>139.00</td>\n",
       "    </tr>\n",
       "    <tr>\n",
       "      <th>2013-05-01</th>\n",
       "      <td>116.99</td>\n",
       "    </tr>\n",
       "    <tr>\n",
       "      <th>2013-05-02</th>\n",
       "      <td>105.21</td>\n",
       "    </tr>\n",
       "    <tr>\n",
       "      <th>2013-05-03</th>\n",
       "      <td>97.75</td>\n",
       "    </tr>\n",
       "  </tbody>\n",
       "</table>\n",
       "</div>"
      ],
      "text/plain": [
       "             close\n",
       "date              \n",
       "2013-04-28  134.21\n",
       "2013-04-29  144.54\n",
       "2013-04-30  139.00\n",
       "2013-05-01  116.99\n",
       "2013-05-02  105.21\n",
       "2013-05-03   97.75"
      ]
     },
     "execution_count": 364,
     "metadata": {},
     "output_type": "execute_result"
    }
   ],
   "source": [
    "c=df[['close']]\n",
    "c.head(6)\n"
   ]
  },
  {
   "cell_type": "code",
   "execution_count": 365,
   "metadata": {},
   "outputs": [
    {
     "data": {
      "image/png": "[encoded data removed]",
      "text/plain": [
       "<Figure size 1152x576 with 1 Axes>"
      ]
     },
     "metadata": {
      "needs_background": "light"
     },
     "output_type": "display_data"
    }
   ],
   "source": [
    "plt.figure(figsize=(16,8))\n",
    "plt.title('Crypto Currency Graph')\n",
    "plt.xlabel('Year')\n",
    "plt.ylabel('Close price')\n",
    "plt.plot(df['close'])\n",
    "plt.show()"
   ]
  },
  {
   "cell_type": "code",
   "execution_count": 366,
   "metadata": {},
   "outputs": [],
   "source": [
    "x=df.iloc[:,5:6]   #open column data\n",
    "y=df.close        #close column data"
   ]
  },
  {
   "cell_type": "code",
   "execution_count": 367,
   "metadata": {},
   "outputs": [
    {
     "data": {
      "text/plain": [
       "array([[  135.3 ],\n",
       "       [  134.44],\n",
       "       [  144.  ],\n",
       "       ...,\n",
       "       [23320.9 ],\n",
       "       [24543.53],\n",
       "       [22872.09]])"
      ]
     },
     "execution_count": 367,
     "metadata": {},
     "output_type": "execute_result"
    }
   ],
   "source": [
    "x.values"
   ]
  },
  {
   "cell_type": "code",
   "execution_count": 368,
   "metadata": {},
   "outputs": [],
   "source": [
    "x=df.iloc[:,5:6].values  #x in 2d array ,since x is independent\n",
    "y=df.iloc[:,8].values    #y in 1d array\n"
   ]
  },
  {
   "cell_type": "code",
   "execution_count": 369,
   "metadata": {},
   "outputs": [],
   "source": [
    "model=LinearRegression()"
   ]
  },
  {
   "cell_type": "code",
   "execution_count": 370,
   "metadata": {},
   "outputs": [
    {
     "data": {
      "text/plain": [
       "LinearRegression()"
      ]
     },
     "execution_count": 370,
     "metadata": {},
     "output_type": "execute_result"
    }
   ],
   "source": [
    "model.fit(x,y)"
   ]
  },
  {
   "cell_type": "code",
   "execution_count": 371,
   "metadata": {},
   "outputs": [],
   "source": [
    "m=model.coef_\n",
    "c=model.intercept_"
   ]
  },
  {
   "cell_type": "code",
   "execution_count": 372,
   "metadata": {},
   "outputs": [],
   "source": [
    "y_predict=(m*x)+c"
   ]
  },
  {
   "cell_type": "code",
   "execution_count": 373,
   "metadata": {},
   "outputs": [
    {
     "data": {
      "text/plain": [
       "array([[  143.50509397],\n",
       "       [  142.68729849],\n",
       "       [  151.77814126],\n",
       "       ...,\n",
       "       [22191.27122002],\n",
       "       [23353.90062356],\n",
       "       [21764.48658149]])"
      ]
     },
     "execution_count": 373,
     "metadata": {},
     "output_type": "execute_result"
    }
   ],
   "source": [
    "y_predict"
   ]
  },
  {
   "cell_type": "code",
   "execution_count": 374,
   "metadata": {},
   "outputs": [
    {
     "data": {
      "text/plain": [
       "array([  134.21,   144.54,   139.  , ..., 24442.7 , 22839.44, 21136.72])"
      ]
     },
     "execution_count": 374,
     "metadata": {},
     "output_type": "execute_result"
    }
   ],
   "source": [
    "y"
   ]
  },
  {
   "cell_type": "code",
   "execution_count": 375,
   "metadata": {},
   "outputs": [
    {
     "data": {
      "image/png": "[encoded data removed]",
      "text/plain": [
       "<Figure size 432x288 with 1 Axes>"
      ]
     },
     "metadata": {
      "needs_background": "light"
     },
     "output_type": "display_data"
    }
   ],
   "source": [
    "plt.scatter(x,y)\n",
    "plt.plot(x,y_predict, c=\"red\")\n",
    "plt.show()"
   ]
  },
  {
   "cell_type": "code",
   "execution_count": 376,
   "metadata": {},
   "outputs": [],
   "source": [
    "df['CLOSE_2'] = (df['close']-df['open'])>2.1"
   ]
  },
  {
   "cell_type": "code",
   "execution_count": 377,
   "metadata": {},
   "outputs": [
    {
     "data": {
      "text/html": [
       "<div>\n",
       "<style scoped>\n",
       "    .dataframe tbody tr th:only-of-type {\n",
       "        vertical-align: middle;\n",
       "    }\n",
       "\n",
       "    .dataframe tbody tr th {\n",
       "        vertical-align: top;\n",
       "    }\n",
       "\n",
       "    .dataframe thead th {\n",
       "        text-align: right;\n",
       "    }\n",
       "</style>\n",
       "<table border=\"1\" class=\"dataframe\">\n",
       "  <thead>\n",
       "    <tr style=\"text-align: right;\">\n",
       "      <th></th>\n",
       "      <th>slug</th>\n",
       "      <th>symbol</th>\n",
       "      <th>name</th>\n",
       "      <th>date</th>\n",
       "      <th>ranknow</th>\n",
       "      <th>open</th>\n",
       "      <th>high</th>\n",
       "      <th>low</th>\n",
       "      <th>close</th>\n",
       "      <th>volume</th>\n",
       "      <th>market</th>\n",
       "      <th>close_ratio</th>\n",
       "      <th>spread</th>\n",
       "      <th>CLOSE_2</th>\n",
       "    </tr>\n",
       "    <tr>\n",
       "      <th>date</th>\n",
       "      <th></th>\n",
       "      <th></th>\n",
       "      <th></th>\n",
       "      <th></th>\n",
       "      <th></th>\n",
       "      <th></th>\n",
       "      <th></th>\n",
       "      <th></th>\n",
       "      <th></th>\n",
       "      <th></th>\n",
       "      <th></th>\n",
       "      <th></th>\n",
       "      <th></th>\n",
       "      <th></th>\n",
       "    </tr>\n",
       "  </thead>\n",
       "  <tbody>\n",
       "    <tr>\n",
       "      <th>2013-04-28</th>\n",
       "      <td>bitcoin</td>\n",
       "      <td>BTC</td>\n",
       "      <td>Bitcoin</td>\n",
       "      <td>2013-04-28</td>\n",
       "      <td>1</td>\n",
       "      <td>135.30</td>\n",
       "      <td>135.98</td>\n",
       "      <td>132.10</td>\n",
       "      <td>134.21</td>\n",
       "      <td>0.0</td>\n",
       "      <td>1.488567e+09</td>\n",
       "      <td>0.5438</td>\n",
       "      <td>3.88</td>\n",
       "      <td>False</td>\n",
       "    </tr>\n",
       "    <tr>\n",
       "      <th>2013-04-29</th>\n",
       "      <td>bitcoin</td>\n",
       "      <td>BTC</td>\n",
       "      <td>Bitcoin</td>\n",
       "      <td>2013-04-29</td>\n",
       "      <td>1</td>\n",
       "      <td>134.44</td>\n",
       "      <td>147.49</td>\n",
       "      <td>134.00</td>\n",
       "      <td>144.54</td>\n",
       "      <td>0.0</td>\n",
       "      <td>1.603769e+09</td>\n",
       "      <td>0.7813</td>\n",
       "      <td>13.49</td>\n",
       "      <td>True</td>\n",
       "    </tr>\n",
       "    <tr>\n",
       "      <th>2013-04-30</th>\n",
       "      <td>bitcoin</td>\n",
       "      <td>BTC</td>\n",
       "      <td>Bitcoin</td>\n",
       "      <td>2013-04-30</td>\n",
       "      <td>1</td>\n",
       "      <td>144.00</td>\n",
       "      <td>146.93</td>\n",
       "      <td>134.05</td>\n",
       "      <td>139.00</td>\n",
       "      <td>0.0</td>\n",
       "      <td>1.542813e+09</td>\n",
       "      <td>0.3843</td>\n",
       "      <td>12.88</td>\n",
       "      <td>False</td>\n",
       "    </tr>\n",
       "    <tr>\n",
       "      <th>2013-05-01</th>\n",
       "      <td>bitcoin</td>\n",
       "      <td>BTC</td>\n",
       "      <td>Bitcoin</td>\n",
       "      <td>2013-05-01</td>\n",
       "      <td>1</td>\n",
       "      <td>139.00</td>\n",
       "      <td>139.89</td>\n",
       "      <td>107.72</td>\n",
       "      <td>116.99</td>\n",
       "      <td>0.0</td>\n",
       "      <td>1.298955e+09</td>\n",
       "      <td>0.2882</td>\n",
       "      <td>32.17</td>\n",
       "      <td>False</td>\n",
       "    </tr>\n",
       "    <tr>\n",
       "      <th>2013-05-02</th>\n",
       "      <td>bitcoin</td>\n",
       "      <td>BTC</td>\n",
       "      <td>Bitcoin</td>\n",
       "      <td>2013-05-02</td>\n",
       "      <td>1</td>\n",
       "      <td>116.38</td>\n",
       "      <td>125.60</td>\n",
       "      <td>92.28</td>\n",
       "      <td>105.21</td>\n",
       "      <td>0.0</td>\n",
       "      <td>1.168517e+09</td>\n",
       "      <td>0.3881</td>\n",
       "      <td>33.32</td>\n",
       "      <td>False</td>\n",
       "    </tr>\n",
       "  </tbody>\n",
       "</table>\n",
       "</div>"
      ],
      "text/plain": [
       "               slug symbol     name       date  ranknow    open    high  \\\n",
       "date                                                                      \n",
       "2013-04-28  bitcoin    BTC  Bitcoin 2013-04-28        1  135.30  135.98   \n",
       "2013-04-29  bitcoin    BTC  Bitcoin 2013-04-29        1  134.44  147.49   \n",
       "2013-04-30  bitcoin    BTC  Bitcoin 2013-04-30        1  144.00  146.93   \n",
       "2013-05-01  bitcoin    BTC  Bitcoin 2013-05-01        1  139.00  139.89   \n",
       "2013-05-02  bitcoin    BTC  Bitcoin 2013-05-02        1  116.38  125.60   \n",
       "\n",
       "               low   close  volume        market  close_ratio  spread  CLOSE_2  \n",
       "date                                                                            \n",
       "2013-04-28  132.10  134.21     0.0  1.488567e+09       0.5438    3.88    False  \n",
       "2013-04-29  134.00  144.54     0.0  1.603769e+09       0.7813   13.49     True  \n",
       "2013-04-30  134.05  139.00     0.0  1.542813e+09       0.3843   12.88    False  \n",
       "2013-05-01  107.72  116.99     0.0  1.298955e+09       0.2882   32.17    False  \n",
       "2013-05-02   92.28  105.21     0.0  1.168517e+09       0.3881   33.32    False  "
      ]
     },
     "execution_count": 377,
     "metadata": {},
     "output_type": "execute_result"
    }
   ],
   "source": [
    "df.head()"
   ]
  },
  {
   "cell_type": "code",
   "execution_count": 378,
   "metadata": {},
   "outputs": [
    {
     "data": {
      "text/plain": [
       "array([  143.50509397,   142.68729849,   151.77814126, ...,\n",
       "       22191.27122002, 23353.90062356, 21764.48658149])"
      ]
     },
     "execution_count": 378,
     "metadata": {},
     "output_type": "execute_result"
    }
   ],
   "source": [
    "\n",
    "y_predict=y_predict.flatten()\n",
    "y_predict"
   ]
  },
  {
   "cell_type": "code",
   "execution_count": 389,
   "metadata": {},
   "outputs": [],
   "source": [
    "err=abs(y_predict-y) "
   ]
  },
  {
   "cell_type": "code",
   "execution_count": 391,
   "metadata": {},
   "outputs": [],
   "source": [
    "df['Error']=err"
   ]
  },
  {
   "cell_type": "code",
   "execution_count": 393,
   "metadata": {},
   "outputs": [
    {
     "data": {
      "text/plain": [
       "array([6.92578345, 1.28179155, 9.19290738, ..., 9.2110478 , 2.2525098 ,\n",
       "       2.97002837])"
      ]
     },
     "execution_count": 393,
     "metadata": {},
     "output_type": "execute_result"
    }
   ],
   "source": [
    "accuracy=(err/y)*100\n",
    "accuracy"
   ]
  },
  {
   "cell_type": "code",
   "execution_count": 394,
   "metadata": {},
   "outputs": [
    {
     "data": {
      "text/plain": [
       "array([  134.21,   144.54,   139.  , ..., 24442.7 , 22839.44, 21136.72])"
      ]
     },
     "execution_count": 394,
     "metadata": {},
     "output_type": "execute_result"
    }
   ],
   "source": [
    "y"
   ]
  },
  {
   "cell_type": "code",
   "execution_count": null,
   "metadata": {},
   "outputs": [],
   "source": []
  },
  {
   "cell_type": "code",
   "execution_count": null,
   "metadata": {},
   "outputs": [],
   "source": []
  },
  {
   "cell_type": "code",
   "execution_count": null,
   "metadata": {},
   "outputs": [],
   "source": []
  },
  {
   "cell_type": "code",
   "execution_count": null,
   "metadata": {},
   "outputs": [],
   "source": []
  },
  {
   "cell_type": "code",
   "execution_count": null,
   "metadata": {},
   "outputs": [],
   "source": []
  },
  {
   "cell_type": "code",
   "execution_count": null,
   "metadata": {},
   "outputs": [],
   "source": []
  }
 ],
 "metadata": {
  "kernelspec": {
   "display_name": "Python 3",
   "language": "python",
   "name": "python3"
  },
  "language_info": {
   "codemirror_mode": {
    "name": "ipython",
    "version": 3
   },
   "file_extension": ".py",
   "mimetype": "text/x-python",
   "name": "python",
   "nbconvert_exporter": "python",
   "pygments_lexer": "ipython3",
   "version": "3.7.3"
  }
 },
 "nbformat": 4,
 "nbformat_minor": 2
}
